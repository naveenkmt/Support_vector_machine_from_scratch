{
  "nbformat": 4,
  "nbformat_minor": 0,
  "metadata": {
    "colab": {
      "name": "SVM_math.ipynb",
      "version": "0.3.2",
      "provenance": []
    },
    "kernelspec": {
      "name": "python3",
      "display_name": "Python 3"
    }
  },
  "cells": [
    {
      "cell_type": "markdown",
      "metadata": {
        "id": "l4J5rFyxyt0g",
        "colab_type": "text"
      },
      "source": [
        "## Support vector machine is highly preferred by many as it produces significant accuracy with less computation power. Support Vector Machine, abbreviated as SVM can be used for both regression and classification tasks. But, it is widely used in classification objectives.\n",
        "\n",
        "\n",
        "\n",
        "\n",
        "![alt text](https://miro.medium.com/max/300/0*9jEWNXTAao7phK-5.png)![alt text](https://miro.medium.com/max/300/0*0o8xIA4k3gXUDCFU.png)\n",
        "\n",
        "\n",
        "The objective of the support vector machine algorithm is to find a hyperplane in an N-dimensional space(N — the number of features) that distinctly classifies the data points.\n",
        " To separate the two classes of data points, there are many possible hyperplanes that could be chosen. Our objective is to find a plane that has the maximum margin, i.e the maximum distance between data points of both classes. Maximizing the margin distance provides some reinforcement so that future data points can be classified with more confidence.\n",
        "\n",
        "\n",
        "\n",
        "###In simple words, The Support vector machine is a generalization of a classifier called Maximal margin classifier.\n",
        "\n",
        "\n",
        "\n",
        "There is some prerequisites to learn before knowing about Support Vector Machines...\n",
        "\n",
        "\n",
        "##1. Vectors:  \n",
        "\n",
        "A vector is a mathematical object(that has both a magnitude and a direction) that can be represented by an arrow.\n",
        "\n",
        "\n",
        "##The magnitude of a vector:\n",
        "\n",
        "The magnitude or length of a vector x is written by || x || , and is called its norm. we compute the norm of a vector x = (x1, x2, ...., xn) by using the **Euclidean norm**\n",
        " formula:\n",
        "\n",
        "![alt text](https://miro.medium.com/max/1000/1*ccWm-HBA85UnnFiWrFwvsg.png)\n",
        "                      \n",
        "In Python, computing the norm can easily be done by calling the norm function provided by the\n",
        "numpy module, as shown below**"
      ]
    },
    {
      "cell_type": "code",
      "metadata": {
        "id": "Ps6vPWH_6DM9",
        "colab_type": "code",
        "outputId": "7ade1b1e-698f-4e02-da7b-b14745bf646f",
        "colab": {
          "base_uri": "https://localhost:8080/",
          "height": 34
        }
      },
      "source": [
        "import numpy as np\n",
        "\n",
        "x = [10,5]\n",
        "np.linalg.norm(x)"
      ],
      "execution_count": 1,
      "outputs": [
        {
          "output_type": "execute_result",
          "data": {
            "text/plain": [
              "11.180339887498949"
            ]
          },
          "metadata": {
            "tags": []
          },
          "execution_count": 1
        }
      ]
    },
    {
      "cell_type": "markdown",
      "metadata": {
        "id": "xHDRBJjK6kC5",
        "colab_type": "text"
      },
      "source": [
        "##The Diretion of a Vector:\n",
        "\n",
        "it is a new vector for which the coordinates are the initial coordinates of our vector divided by its norm.The direction of a vector $x = $($u,$v) is the vector:   \n",
        "    ![alt text](https://raw.githubusercontent.com/kushalshm1/Machine-Learning/9c16bf1342a6a056196eb3ce4a7e60e043e6b801/SupportVectorMachines-Explanation/img/directionVector.jpg)\n",
        "\n",
        "\n",
        "**Note:** the norm of a direction vector is always 1.                                   \n",
        "\n",
        "\n",
        "Direction can be computed in Python using the code**"
      ]
    },
    {
      "cell_type": "code",
      "metadata": {
        "id": "SyVvBsUL6R7F",
        "colab_type": "code",
        "outputId": "feed8dc0-3a28-40ea-b2ef-0b2f39f0419b",
        "colab": {
          "base_uri": "https://localhost:8080/",
          "height": 34
        }
      },
      "source": [
        "def direction(x):\n",
        "  return x/np.linalg.norm(x)\n",
        "direction(x)"
      ],
      "execution_count": 2,
      "outputs": [
        {
          "output_type": "execute_result",
          "data": {
            "text/plain": [
              "array([0.89442719, 0.4472136 ])"
            ]
          },
          "metadata": {
            "tags": []
          },
          "execution_count": 2
        }
      ]
    },
    {
      "cell_type": "markdown",
      "metadata": {
        "id": "mGJAfeDZ_SoF",
        "colab_type": "text"
      },
      "source": [
        "##The Dot product:\n",
        "The dot product is an operation performed on two vectors that returns a number. A number is sometimes called a scalar; that is why the dot product is also called a scalar product.\n",
        "\n",
        "\n",
        "![alt text](https://raw.githubusercontent.com/kushalshm1/Machine-Learning/9c16bf1342a6a056196eb3ce4a7e60e043e6b801/SupportVectorMachines-Explanation/img/dotProduct.jpg)\n",
        "\n",
        "\n",
        "θ is the angle between two vectors By looking at this formula, we can see that the dot product is strongly influenced by the angle :\n",
        "\n",
        "* when theta = 0 degree, we have cos(theta) = 1 and x.y = ||x|| ||y||\n",
        "* when theta = 90 degree, we have cos(theta) = 0 and x.y = 0\n",
        "* when theta = 180 degree, we have cos(theta) = -1 and x.y =  - ||x|| ||y||"
      ]
    },
    {
      "cell_type": "markdown",
      "metadata": {
        "id": "1dgG8BQcB_yl",
        "colab_type": "text"
      },
      "source": [
        "##Linear Separability:\n",
        "\n",
        "Linearly separable data, Imagine you are a wine producer. You sell wine coming from two different production batches:\n",
        "* One high-end wine costing 1450rs a bottle.\n",
        "* One common wine costing 80rs a bottle.\n",
        "\n",
        "Recently, you started to receive complaints from clients who bought an expensive bottle. They\n",
        "claim that their bottle contains the cheap wine. This results in a major reputation loss for your\n",
        "company, and customers stop ordering your wine. Using alcohol-by-volume to classify wine You decide to find a way to distinguish the two wines. You know that one of them contains more alcohol than the other, so you open a few bottles, measure the alcohol concentration, and plot it.![alt text](https://newonlinecourses.science.psu.edu/onlinecourses/sites/stat508/files/lesson11/linearly_separable_01.png)\n",
        "\n",
        "you can clearly see that the expensive wine contains less alcohol than the cheap\n",
        "one. In fact, you can find a point that separates the data into two groups. This data is said to be\n",
        "linearly separable.\n",
        "\n",
        "data is linearly separable when:\n",
        "* In one dimension, you can find a point separating the data \n",
        "* In two dimensions, you can find a line separating the data \n",
        "* In three dimensions, you can find a plane separating the data\n",
        "\n",
        "![alt text](https://encrypted-tbn0.gstatic.com/images?q=tbn:ANd9GcSMVy7wAHc1D4QxG5NnmE-2BojeQGhk5E7ztXtnoVVl7dbEJJy_Fg)![alt text](https://encrypted-tbn0.gstatic.com/images?q=tbn:ANd9GcTGWQ40dR5s-UEA1vpUKhnYIbr47FyXVuHUbAk0jbQ35A7IPSPP)\n",
        "\n",
        "\n",
        "##Hyperplanes: \n",
        "What do we use to separate the data when there are more than three dimensions? We use a hyperplane\n",
        "\n",
        "In geometry, a hyperplane is a subspace of one dimension less than its ambient space. It's mean, in a P-dimensional space a hyperplane is a flat affine subspace of dimension p-1, visually in a 2d space, the hyperplane will be a line and in a 3d space, it will be a flat plane.\n",
        "\n",
        "* Equation of Line:            \n",
        "![alt text](https://raw.githubusercontent.com/kushalshm1/Machine-Learning/9c16bf1342a6a056196eb3ce4a7e60e043e6b801/SupportVectorMachines-Explanation/img/lineEquation.jpg)\n",
        "\n",
        "* Equation of Hyperplane:   \n",
        "![alt text](https://raw.githubusercontent.com/kushalshm1/Machine-Learning/9c16bf1342a6a056196eb3ce4a7e60e043e6b801/SupportVectorMachines-Explanation/img/hyperplaneEquation.jpg)\n",
        "\n",
        "\n",
        "here m and c are both vectors of n dimension\n",
        "\n",
        "And in Linear Hard margin Support Vector Machines we seperate the data by two seperating hyperplane each of which is at outermost point of each class as well as their distance is maximum"
      ]
    },
    {
      "cell_type": "markdown",
      "metadata": {
        "id": "e5fcfBTbbvg2",
        "colab_type": "text"
      },
      "source": [
        "##Now move forward on Support Vector Machine algoritham\n",
        "\n",
        "The goal of a support vector machine is to nd the optimal separating hyperplane which maximizes the\n",
        "margin of the training data.\n",
        "\n",
        "\n",
        "\n",
        "![alt text](https://sandipanweb.files.wordpress.com/2018/04/svm_slack.png?w=676)\n",
        "\n",
        "\n",
        "\n",
        "*   Margin is perpendicular distance between two hyperplanes and this margin(R) is calculated as: \n",
        "\n",
        "       ![alt text](http://www.simpleimageresizer.com/_uploads/photos/ba774bfa/IMG_20190803_2249452_8_200x200.jpg)\n",
        "\n",
        "\n",
        "R is the margin which is to be maximized\n",
        "      \n",
        "**There are some assumptions:** \n",
        "\n",
        "max of 2/|| w|| is equal to min of || w || /2 \n",
        "\n",
        "2/|| w || is not convex function and we need to have a convex function in order to minimize easilly, so min of (||w||)^2  (**note:** here we are squaring to make it convex)"
      ]
    },
    {
      "cell_type": "markdown",
      "metadata": {
        "id": "DauSJhjOlsy6",
        "colab_type": "text"
      },
      "source": [
        "\n",
        "\n",
        "Hence our Primal Objective Function is this which is written above and we have to minimize it using mathematical optimization, But that is not an easy task to minimize it there are many more things to learn and do\n",
        "\n",
        "####What is Optimization?\n",
        "\n",
        "Optimization is the branch of Mathematics and Research in which we deal with problems of Minimizing and Maximizing function in a feasible way.\n",
        "Optimization Problem:\n",
        "\n",
        "An Optimization problem contains a function with some constraints which acts like bounding conditions of the value over whose extent that function will be minimized or maximized\n",
        "\n",
        "In this above problem of Male/Female voice classification we have formulated an Optimization Problem in which we have to minimize the margin function and our constraints are equations of Hyperplane.\n",
        "\n",
        "Hence, our optimization problem is,            ![alt text](https://github.com/kushalshm1/Machine-Learning/raw/9c16bf1342a6a056196eb3ce4a7e60e043e6b801/SupportVectorMachines-Explanation/img/PrimalProblem.jpg)\n",
        "\n",
        "\n",
        "After minimizing it we will get that minimum margin that classifies our data properly.\n",
        "\n",
        "This above written expression is our Primal problem\n",
        "But minimizing this Primal Problem is not easy so we will convert it into some other optimization problem that is easy to solve due to its resolved constraints and that Optimization problem is called Dual Problem\n",
        "\n",
        "####Duality:\n",
        "\n",
        "In order to make Dual Problem let's understand what is Duality first,\n",
        "\n",
        "So, in mathematical optimization theory, duality means that Optimization problems may be viewed from either of two perspectives, the Primal Problem and Dual Problem.\n",
        "####Duality Gap: ![alt text](https://raw.githubusercontent.com/kushalshm1/Machine-Learning/9c16bf1342a6a056196eb3ce4a7e60e043e6b801/SupportVectorMachines-Explanation/img/DualAndPrimalCurves.jpg)\n",
        "\n",
        "\n",
        "In the figure above, imagine that in our primal problem we are trying to minimize the function at the top of the graph. Its minimum is point P.\n",
        "\n",
        "If we search for Dual Function we could end up with the one at bottom of the graph whose maximum is point D.\n",
        "\n",
        "We define the value (P-D) and call it Duality Gap.\n",
        "\n",
        "and,\n",
        "\n",
        "if(P-D)>0 then the phenomenon is called as Weak Duality\n",
        "\n",
        "if(P-D) = 0 then the phenomenon is called Strong Duality\n",
        "\n",
        "Now, we will see method of Lagrange Multipliers to find Dual Problem, but before that some prerequisite knowledge is required so let's review those first.\n",
        "###Prerequisite Knowledge to learn Lagrange Multipliers Method\n",
        "####Gradients:\n",
        "\n",
        "A gradient of a function is a Vector field with the arrow pointing in the direction where the function is increasing. It is actually a partial derivative of function with respect to the variables. And it is always perpendicular to the curve of the function.\n",
        "\n",
        "\n",
        "let's take a sample optimization problem,\n",
        "\n",
        "\n",
        "   ![alt text](https://raw.githubusercontent.com/kushalshm1/Machine-Learning/9c16bf1342a6a056196eb3ce4a7e60e043e6b801/SupportVectorMachines-Explanation/img/SampleProblem.jpg)\n",
        "\n",
        "Let's plot these two equations f(x,y) and g(x,y)\n",
        "\n",
        "![alt text](https://github.com/kushalshm1/Machine-Learning/raw/9c16bf1342a6a056196eb3ce4a7e60e043e6b801/SupportVectorMachines-Explanation/img/IndividualContourPlots.jpg)\n",
        "\n",
        "Now, lets compute gradient of f(x,y) and g(x,y) both and let's see what happens: \n",
        "\n",
        "![alt text](https://github.com/kushalshm1/Machine-Learning/raw/9c16bf1342a6a056196eb3ce4a7e60e043e6b801/SupportVectorMachines-Explanation/img/CombinedContoursWithGradients.jpg)\n",
        "\n",
        "\n",
        "\n",
        "Here, you can see red arrows are gradients of f(x,y) and black arrows are gradients of g(x,y). And among all these arrow there exists some red and black arrows which are parallel to each other.\n",
        "\n",
        "And here comes a line which shares a parallel gradient with circle, \n",
        "\n",
        "![alt text](https://github.com/kushalshm1/Machine-Learning/raw/9c16bf1342a6a056196eb3ce4a7e60e043e6b801/SupportVectorMachines-Explanation/img/ParallelGradients.jpg)\n",
        "\n",
        "So, in the graph above we plot the line y = 1-x on the top of Objective function f(x,y).\n",
        "\n",
        "**Lagrange found that minimum of f(x,y) under the constraint g(x,y) = 0 is obtained when their gradients point in the same direction.**\n",
        "\n",
        "\n",
        "###Let's translate it Mathematically:\n",
        "\n",
        "When two gradients are parallel but not equal so there should exist a parameter that should make both equal in magnitude, so that is λ(Lambda) and this is called the famous LAGRANGE MULTIPLIER.\n",
        "\n",
        "And hence the equation becomes,\n",
        "\n",
        "Gradient of (f(x,y)) = λ * (Gradient of g(x,y))\n",
        "\n",
        "or\n",
        "\n",
        "Δ(f(x,y)) = λ * Δ(g(x,y))\n",
        "\n",
        "###What is λ?\n",
        "\n",
        "It is what we call a Lagrange Multiplier. Indeed, even it the two gradient vectors point in the same direction, they might not have the same length, there must be some factor λ allowing to transform on the the other.\n",
        "\n",
        "But how do we find points for which,\n",
        "\n",
        "Gradient of (f(x,y)) = λ * (Gradient of g(x,y)) exists,\n",
        "\n",
        "To get this we need to modify this a bit,\n",
        "\n",
        "Δ(f(x,y)) - λ * Δ(g(x,y)) = 0\n",
        "\n",
        "To make things little easier we are defining a function:\n",
        "\n",
        "![alt text](https://github.com/kushalshm1/Machine-Learning/raw/9c16bf1342a6a056196eb3ce4a7e60e043e6b801/SupportVectorMachines-Explanation/img/LagrangeFunctionZero.jpg)"
      ]
    },
    {
      "cell_type": "markdown",
      "metadata": {
        "id": "UezwMn80w0iv",
        "colab_type": "text"
      },
      "source": [
        "###The SVM Lagrangian problem:\n",
        "\n",
        "Now, we know what is a Lagrangian function, let's incorporate that in Support Vector Machines Algorithm.\n",
        "\n",
        "Till now our optimization problem is, \n",
        "\n",
        "![alt text](https://raw.githubusercontent.com/kushalshm1/Machine-Learning/9c16bf1342a6a056196eb3ce4a7e60e043e6b801/SupportVectorMachines-Explanation/img/PrimalProblem.jpg)\n",
        "\n",
        "\n",
        "Now we introduce our Lagrangian Function, \n",
        "\n",
        "![alt text](https://raw.githubusercontent.com/kushalshm1/Machine-Learning/9c16bf1342a6a056196eb3ce4a7e60e043e6b801/SupportVectorMachines-Explanation/img/LagrangeAfterValues.jpg)\n",
        "\n",
        "####Now let's rewrite the problem using Duality Principle\n",
        "\n",
        "![alt text](https://raw.githubusercontent.com/kushalshm1/Machine-Learning/9c16bf1342a6a056196eb3ce4a7e60e043e6b801/SupportVectorMachines-Explanation/img/PrimalAndDual.jpg)\n",
        "\n",
        "\n",
        "So we need to minimize w.r.t (w,b) and to maximize w.r.t (λ) at same time.\n",
        "##Procedure of solving this type of problem\n",
        "\n",
        "In order to solve this problem we need to calculate Gradients of Lagrange function with respect to variables that are \"w\" and \"b\" here.\n",
        "\n",
        "Hence, our Gradients are, \n",
        "\n",
        "![alt text](https://raw.githubusercontent.com/kushalshm1/Machine-Learning/9c16bf1342a6a056196eb3ce4a7e60e043e6b801/SupportVectorMachines-Explanation/img/GradientsLagrange.jpg)\n",
        "\n",
        "\n",
        "\n",
        "Now, let's substitute this value of W in Lagrangian Function\n",
        "\n",
        "\n",
        "After replacing value of W the function will remain only in terms of \"λ\" and \"b\"\n",
        "\n",
        "\n",
        "![alt text](https://raw.githubusercontent.com/kushalshm1/Machine-Learning/9c16bf1342a6a056196eb3ce4a7e60e043e6b801/SupportVectorMachines-Explanation/img/NewLagrangianLambdaAndB.jpg)\n",
        "\n",
        "Solving Further, we got,\n",
        "\n",
        "![alt text](https://raw.githubusercontent.com/kushalshm1/Machine-Learning/9c16bf1342a6a056196eb3ce4a7e60e043e6b801/SupportVectorMachines-Explanation/img/LagrangeATermGotZero.jpg)\n",
        "\n",
        "And now we can see that our function only remains in terms of λ only, hence it became,\n",
        "\n",
        "![alt text](https://raw.githubusercontent.com/kushalshm1/Machine-Learning/9c16bf1342a6a056196eb3ce4a7e60e043e6b801/SupportVectorMachines-Explanation/img/NewLagrangeOnlyLambda.jpg)\n",
        "\n",
        "It depends only and only on Lagrange Multiplier,\n",
        "####Now, let's rewrite our Optimization Problem\n",
        "\n",
        "![alt text](https://raw.githubusercontent.com/kushalshm1/Machine-Learning/9c16bf1342a6a056196eb3ce4a7e60e043e6b801/SupportVectorMachines-Explanation/img/NewOptimizationProblemOnlyLambda.jpg)\n",
        "\n",
        "\n",
        "##Now, in order to have a Guarrenteed solution we need to verify some conditions and those are called Karush-Kuhn-Tucker Conditions\n",
        "\n",
        "If a Solution Satisfies all the KKT Conditions then we can say by guarrentee that, this is Optimal Solution.\n",
        "\n",
        "##KKT Conditions are:\n",
        "\n",
        "    1.Stationary Condition: \n",
        "    \n",
        "    ![alt text](https://raw.githubusercontent.com/kushalshm1/Machine-Learning/9c16bf1342a6a056196eb3ce4a7e60e043e6b801/SupportVectorMachines-Explanation/img/KKTConditionOne.jpg)"
      ]
    },
    {
      "cell_type": "markdown",
      "metadata": {
        "id": "pKzPR0AkyxV4",
        "colab_type": "text"
      },
      "source": [
        "            2. Primal Feasibility:\n",
        "            \n",
        "   ![alt text](https://raw.githubusercontent.com/kushalshm1/Machine-Learning/9c16bf1342a6a056196eb3ce4a7e60e043e6b801/SupportVectorMachines-Explanation/img/KKTConditionTwo.jpg)\n",
        "\n",
        "            3. Dual-Feasibility Condition:\n",
        "            \n",
        "   ![alt text](https://raw.githubusercontent.com/kushalshm1/Machine-Learning/9c16bf1342a6a056196eb3ce4a7e60e043e6b801/SupportVectorMachines-Explanation/img/KKTConditionThree.jpg)\n",
        "            \n",
        "            4. Complementary Slackness Condition: \n",
        "            \n",
        "   ![alt text](https://raw.githubusercontent.com/kushalshm1/Machine-Learning/9c16bf1342a6a056196eb3ce4a7e60e043e6b801/SupportVectorMachines-Explanation/img/KKTConditionFour.jpg)\n",
        "            \n",
        "            \n",
        "\n",
        "From this Fourth Condition(Complementary Slackness) we see that,\n",
        "\n",
        "![alt text](https://raw.githubusercontent.com/kushalshm1/Machine-Learning/9c16bf1342a6a056196eb3ce4a7e60e043e6b801/SupportVectorMachines-Explanation/img/KKTConditionFourFurther.jpg)\n",
        "\n",
        "\n",
        "\n",
        "Hence, we can conclude that, Support Vectors are examples having Positive Lagrange Multipliers(λ)\n",
        "Hence, by optimization we need to find those Examples in Dataset for which Lagrange Multiplier is Positive."
      ]
    },
    {
      "cell_type": "markdown",
      "metadata": {
        "id": "XR16tIhiz7gI",
        "colab_type": "text"
      },
      "source": [
        "##Solving this problem using QPsolver\n",
        "\n",
        "QPsolver is a library used to solve quadratic programming problems.\n",
        "\n",
        "formula to solve quadratic problem: \n",
        "\n",
        "![alt text](http://www.simpleimageresizer.com/_uploads/photos/6723c794/IMG_20190805_1338092_300x300.jpg)\n",
        "\n",
        "in our problem we have lembda, so first rewrite it into **cvxopt** form:\n",
        "\n",
        "![alt text](http://www.simpleimageresizer.com/_uploads/photos/6723c794/IMG_20190805_1341522_300x300.jpg)\n",
        "\n",
        "our problem is :\n",
        "\n",
        "![alt text](http://www.simpleimageresizer.com/_uploads/photos/6723c794/IMG_20190805_1343482_300x300.jpg)\n",
        "\n",
        "now convert it into minimization problem by multiplyin git by -1\n",
        "\n",
        "![alt text](http://www.simpleimageresizer.com/_uploads/photos/6723c794/IMG_20190805_1343483_300x300.jpg)\n",
        "\n",
        "![alt text](http://www.simpleimageresizer.com/_uploads/photos/6723c794/IMG_20190805_1347252_1_480x500.jpg)\n",
        "\n",
        "\n",
        "###so, we are able to find the value of each parameter P,q,G,h,A,b required by Cvxopt function"
      ]
    },
    {
      "cell_type": "markdown",
      "metadata": {
        "id": "zWycpXq-38eh",
        "colab_type": "text"
      },
      "source": [
        "##now move forward to code "
      ]
    },
    {
      "cell_type": "code",
      "metadata": {
        "id": "lq7TqmOq7hs3",
        "colab_type": "code",
        "colab": {}
      },
      "source": [
        "#importing dataset\n",
        "url = \"https://raw.githubusercontent.com/Mr-nvk/svm-practice/master/data/voice.csv\"\n",
        "df = pd.read_csv(url)"
      ],
      "execution_count": 0,
      "outputs": []
    },
    {
      "cell_type": "markdown",
      "metadata": {
        "id": "8pajcptZ6iZZ",
        "colab_type": "text"
      },
      "source": [
        "##importing libraries \n",
        "\n",
        "###Note: \n",
        "\n",
        "here i am using %matplotlib inline, bcz the %matplotlib inline will make our plot outputs appear and be stored within the notebook."
      ]
    },
    {
      "cell_type": "code",
      "metadata": {
        "id": "yyj8V19z6XOj",
        "colab_type": "code",
        "colab": {}
      },
      "source": [
        "import pandas as pd\n",
        "import numpy as np\n",
        "import matplotlib.pyplot as plt\n",
        "%matplotlib inline"
      ],
      "execution_count": 0,
      "outputs": []
    },
    {
      "cell_type": "code",
      "metadata": {
        "id": "RfojwdPX65Kb",
        "colab_type": "code",
        "outputId": "410a57a5-0574-4727-8a8e-bc3928336617",
        "colab": {
          "base_uri": "https://localhost:8080/",
          "height": 226
        }
      },
      "source": [
        "df = pd.read_csv(\"voice.csv\")\n",
        "df.head()"
      ],
      "execution_count": 7,
      "outputs": [
        {
          "output_type": "execute_result",
          "data": {
            "text/html": [
              "<div>\n",
              "<style scoped>\n",
              "    .dataframe tbody tr th:only-of-type {\n",
              "        vertical-align: middle;\n",
              "    }\n",
              "\n",
              "    .dataframe tbody tr th {\n",
              "        vertical-align: top;\n",
              "    }\n",
              "\n",
              "    .dataframe thead th {\n",
              "        text-align: right;\n",
              "    }\n",
              "</style>\n",
              "<table border=\"1\" class=\"dataframe\">\n",
              "  <thead>\n",
              "    <tr style=\"text-align: right;\">\n",
              "      <th></th>\n",
              "      <th>meanfreq</th>\n",
              "      <th>sd</th>\n",
              "      <th>median</th>\n",
              "      <th>Q25</th>\n",
              "      <th>Q75</th>\n",
              "      <th>IQR</th>\n",
              "      <th>skew</th>\n",
              "      <th>kurt</th>\n",
              "      <th>sp.ent</th>\n",
              "      <th>sfm</th>\n",
              "      <th>mode</th>\n",
              "      <th>centroid</th>\n",
              "      <th>meanfun</th>\n",
              "      <th>minfun</th>\n",
              "      <th>maxfun</th>\n",
              "      <th>meandom</th>\n",
              "      <th>mindom</th>\n",
              "      <th>maxdom</th>\n",
              "      <th>dfrange</th>\n",
              "      <th>modindx</th>\n",
              "      <th>label</th>\n",
              "    </tr>\n",
              "  </thead>\n",
              "  <tbody>\n",
              "    <tr>\n",
              "      <th>0</th>\n",
              "      <td>0.059781</td>\n",
              "      <td>0.064241</td>\n",
              "      <td>0.032027</td>\n",
              "      <td>0.015071</td>\n",
              "      <td>0.090193</td>\n",
              "      <td>0.075122</td>\n",
              "      <td>12.863462</td>\n",
              "      <td>274.402906</td>\n",
              "      <td>0.893369</td>\n",
              "      <td>0.491918</td>\n",
              "      <td>0.000000</td>\n",
              "      <td>0.059781</td>\n",
              "      <td>0.084279</td>\n",
              "      <td>0.015702</td>\n",
              "      <td>0.275862</td>\n",
              "      <td>0.007812</td>\n",
              "      <td>0.007812</td>\n",
              "      <td>0.007812</td>\n",
              "      <td>0.000000</td>\n",
              "      <td>0.000000</td>\n",
              "      <td>male</td>\n",
              "    </tr>\n",
              "    <tr>\n",
              "      <th>1</th>\n",
              "      <td>0.066009</td>\n",
              "      <td>0.067310</td>\n",
              "      <td>0.040229</td>\n",
              "      <td>0.019414</td>\n",
              "      <td>0.092666</td>\n",
              "      <td>0.073252</td>\n",
              "      <td>22.423285</td>\n",
              "      <td>634.613855</td>\n",
              "      <td>0.892193</td>\n",
              "      <td>0.513724</td>\n",
              "      <td>0.000000</td>\n",
              "      <td>0.066009</td>\n",
              "      <td>0.107937</td>\n",
              "      <td>0.015826</td>\n",
              "      <td>0.250000</td>\n",
              "      <td>0.009014</td>\n",
              "      <td>0.007812</td>\n",
              "      <td>0.054688</td>\n",
              "      <td>0.046875</td>\n",
              "      <td>0.052632</td>\n",
              "      <td>male</td>\n",
              "    </tr>\n",
              "    <tr>\n",
              "      <th>2</th>\n",
              "      <td>0.077316</td>\n",
              "      <td>0.083829</td>\n",
              "      <td>0.036718</td>\n",
              "      <td>0.008701</td>\n",
              "      <td>0.131908</td>\n",
              "      <td>0.123207</td>\n",
              "      <td>30.757155</td>\n",
              "      <td>1024.927705</td>\n",
              "      <td>0.846389</td>\n",
              "      <td>0.478905</td>\n",
              "      <td>0.000000</td>\n",
              "      <td>0.077316</td>\n",
              "      <td>0.098706</td>\n",
              "      <td>0.015656</td>\n",
              "      <td>0.271186</td>\n",
              "      <td>0.007990</td>\n",
              "      <td>0.007812</td>\n",
              "      <td>0.015625</td>\n",
              "      <td>0.007812</td>\n",
              "      <td>0.046512</td>\n",
              "      <td>male</td>\n",
              "    </tr>\n",
              "    <tr>\n",
              "      <th>3</th>\n",
              "      <td>0.151228</td>\n",
              "      <td>0.072111</td>\n",
              "      <td>0.158011</td>\n",
              "      <td>0.096582</td>\n",
              "      <td>0.207955</td>\n",
              "      <td>0.111374</td>\n",
              "      <td>1.232831</td>\n",
              "      <td>4.177296</td>\n",
              "      <td>0.963322</td>\n",
              "      <td>0.727232</td>\n",
              "      <td>0.083878</td>\n",
              "      <td>0.151228</td>\n",
              "      <td>0.088965</td>\n",
              "      <td>0.017798</td>\n",
              "      <td>0.250000</td>\n",
              "      <td>0.201497</td>\n",
              "      <td>0.007812</td>\n",
              "      <td>0.562500</td>\n",
              "      <td>0.554688</td>\n",
              "      <td>0.247119</td>\n",
              "      <td>male</td>\n",
              "    </tr>\n",
              "    <tr>\n",
              "      <th>4</th>\n",
              "      <td>0.135120</td>\n",
              "      <td>0.079146</td>\n",
              "      <td>0.124656</td>\n",
              "      <td>0.078720</td>\n",
              "      <td>0.206045</td>\n",
              "      <td>0.127325</td>\n",
              "      <td>1.101174</td>\n",
              "      <td>4.333713</td>\n",
              "      <td>0.971955</td>\n",
              "      <td>0.783568</td>\n",
              "      <td>0.104261</td>\n",
              "      <td>0.135120</td>\n",
              "      <td>0.106398</td>\n",
              "      <td>0.016931</td>\n",
              "      <td>0.266667</td>\n",
              "      <td>0.712812</td>\n",
              "      <td>0.007812</td>\n",
              "      <td>5.484375</td>\n",
              "      <td>5.476562</td>\n",
              "      <td>0.208274</td>\n",
              "      <td>male</td>\n",
              "    </tr>\n",
              "  </tbody>\n",
              "</table>\n",
              "</div>"
            ],
            "text/plain": [
              "   meanfreq        sd    median       Q25  ...    maxdom   dfrange   modindx  label\n",
              "0  0.059781  0.064241  0.032027  0.015071  ...  0.007812  0.000000  0.000000   male\n",
              "1  0.066009  0.067310  0.040229  0.019414  ...  0.054688  0.046875  0.052632   male\n",
              "2  0.077316  0.083829  0.036718  0.008701  ...  0.015625  0.007812  0.046512   male\n",
              "3  0.151228  0.072111  0.158011  0.096582  ...  0.562500  0.554688  0.247119   male\n",
              "4  0.135120  0.079146  0.124656  0.078720  ...  5.484375  5.476562  0.208274   male\n",
              "\n",
              "[5 rows x 21 columns]"
            ]
          },
          "metadata": {
            "tags": []
          },
          "execution_count": 7
        }
      ]
    },
    {
      "cell_type": "markdown",
      "metadata": {
        "id": "uNG-KvvO7C4c",
        "colab_type": "text"
      },
      "source": [
        "##correlation between each feature"
      ]
    },
    {
      "cell_type": "code",
      "metadata": {
        "id": "fEchSUV_67Mg",
        "colab_type": "code",
        "outputId": "fb230d70-9591-4981-c9f5-4bc906ae97a3",
        "colab": {
          "base_uri": "https://localhost:8080/",
          "height": 697
        }
      },
      "source": [
        "df.corr()"
      ],
      "execution_count": 8,
      "outputs": [
        {
          "output_type": "execute_result",
          "data": {
            "text/html": [
              "<div>\n",
              "<style scoped>\n",
              "    .dataframe tbody tr th:only-of-type {\n",
              "        vertical-align: middle;\n",
              "    }\n",
              "\n",
              "    .dataframe tbody tr th {\n",
              "        vertical-align: top;\n",
              "    }\n",
              "\n",
              "    .dataframe thead th {\n",
              "        text-align: right;\n",
              "    }\n",
              "</style>\n",
              "<table border=\"1\" class=\"dataframe\">\n",
              "  <thead>\n",
              "    <tr style=\"text-align: right;\">\n",
              "      <th></th>\n",
              "      <th>meanfreq</th>\n",
              "      <th>sd</th>\n",
              "      <th>median</th>\n",
              "      <th>Q25</th>\n",
              "      <th>Q75</th>\n",
              "      <th>IQR</th>\n",
              "      <th>skew</th>\n",
              "      <th>kurt</th>\n",
              "      <th>sp.ent</th>\n",
              "      <th>sfm</th>\n",
              "      <th>mode</th>\n",
              "      <th>centroid</th>\n",
              "      <th>meanfun</th>\n",
              "      <th>minfun</th>\n",
              "      <th>maxfun</th>\n",
              "      <th>meandom</th>\n",
              "      <th>mindom</th>\n",
              "      <th>maxdom</th>\n",
              "      <th>dfrange</th>\n",
              "      <th>modindx</th>\n",
              "    </tr>\n",
              "  </thead>\n",
              "  <tbody>\n",
              "    <tr>\n",
              "      <th>meanfreq</th>\n",
              "      <td>1.000000</td>\n",
              "      <td>-0.739039</td>\n",
              "      <td>0.925445</td>\n",
              "      <td>0.911416</td>\n",
              "      <td>0.740997</td>\n",
              "      <td>-0.627605</td>\n",
              "      <td>-0.322327</td>\n",
              "      <td>-0.316036</td>\n",
              "      <td>-0.601203</td>\n",
              "      <td>-0.784332</td>\n",
              "      <td>0.687715</td>\n",
              "      <td>1.000000</td>\n",
              "      <td>0.460844</td>\n",
              "      <td>0.383937</td>\n",
              "      <td>0.274004</td>\n",
              "      <td>0.536666</td>\n",
              "      <td>0.229261</td>\n",
              "      <td>0.519528</td>\n",
              "      <td>0.515570</td>\n",
              "      <td>-0.216979</td>\n",
              "    </tr>\n",
              "    <tr>\n",
              "      <th>sd</th>\n",
              "      <td>-0.739039</td>\n",
              "      <td>1.000000</td>\n",
              "      <td>-0.562603</td>\n",
              "      <td>-0.846931</td>\n",
              "      <td>-0.161076</td>\n",
              "      <td>0.874660</td>\n",
              "      <td>0.314597</td>\n",
              "      <td>0.346241</td>\n",
              "      <td>0.716620</td>\n",
              "      <td>0.838086</td>\n",
              "      <td>-0.529150</td>\n",
              "      <td>-0.739039</td>\n",
              "      <td>-0.466281</td>\n",
              "      <td>-0.345609</td>\n",
              "      <td>-0.129662</td>\n",
              "      <td>-0.482726</td>\n",
              "      <td>-0.357667</td>\n",
              "      <td>-0.482278</td>\n",
              "      <td>-0.475999</td>\n",
              "      <td>0.122660</td>\n",
              "    </tr>\n",
              "    <tr>\n",
              "      <th>median</th>\n",
              "      <td>0.925445</td>\n",
              "      <td>-0.562603</td>\n",
              "      <td>1.000000</td>\n",
              "      <td>0.774922</td>\n",
              "      <td>0.731849</td>\n",
              "      <td>-0.477352</td>\n",
              "      <td>-0.257407</td>\n",
              "      <td>-0.243382</td>\n",
              "      <td>-0.502005</td>\n",
              "      <td>-0.661690</td>\n",
              "      <td>0.677433</td>\n",
              "      <td>0.925445</td>\n",
              "      <td>0.414909</td>\n",
              "      <td>0.337602</td>\n",
              "      <td>0.251328</td>\n",
              "      <td>0.455943</td>\n",
              "      <td>0.191169</td>\n",
              "      <td>0.438919</td>\n",
              "      <td>0.435621</td>\n",
              "      <td>-0.213298</td>\n",
              "    </tr>\n",
              "    <tr>\n",
              "      <th>Q25</th>\n",
              "      <td>0.911416</td>\n",
              "      <td>-0.846931</td>\n",
              "      <td>0.774922</td>\n",
              "      <td>1.000000</td>\n",
              "      <td>0.477140</td>\n",
              "      <td>-0.874189</td>\n",
              "      <td>-0.319475</td>\n",
              "      <td>-0.350182</td>\n",
              "      <td>-0.648126</td>\n",
              "      <td>-0.766875</td>\n",
              "      <td>0.591277</td>\n",
              "      <td>0.911416</td>\n",
              "      <td>0.545035</td>\n",
              "      <td>0.320994</td>\n",
              "      <td>0.199841</td>\n",
              "      <td>0.467403</td>\n",
              "      <td>0.302255</td>\n",
              "      <td>0.459683</td>\n",
              "      <td>0.454394</td>\n",
              "      <td>-0.141377</td>\n",
              "    </tr>\n",
              "    <tr>\n",
              "      <th>Q75</th>\n",
              "      <td>0.740997</td>\n",
              "      <td>-0.161076</td>\n",
              "      <td>0.731849</td>\n",
              "      <td>0.477140</td>\n",
              "      <td>1.000000</td>\n",
              "      <td>0.009636</td>\n",
              "      <td>-0.206339</td>\n",
              "      <td>-0.148881</td>\n",
              "      <td>-0.174905</td>\n",
              "      <td>-0.378198</td>\n",
              "      <td>0.486857</td>\n",
              "      <td>0.740997</td>\n",
              "      <td>0.155091</td>\n",
              "      <td>0.258002</td>\n",
              "      <td>0.285584</td>\n",
              "      <td>0.359181</td>\n",
              "      <td>-0.023750</td>\n",
              "      <td>0.335114</td>\n",
              "      <td>0.335648</td>\n",
              "      <td>-0.216475</td>\n",
              "    </tr>\n",
              "    <tr>\n",
              "      <th>IQR</th>\n",
              "      <td>-0.627605</td>\n",
              "      <td>0.874660</td>\n",
              "      <td>-0.477352</td>\n",
              "      <td>-0.874189</td>\n",
              "      <td>0.009636</td>\n",
              "      <td>1.000000</td>\n",
              "      <td>0.249497</td>\n",
              "      <td>0.316185</td>\n",
              "      <td>0.640813</td>\n",
              "      <td>0.663601</td>\n",
              "      <td>-0.403764</td>\n",
              "      <td>-0.627605</td>\n",
              "      <td>-0.534462</td>\n",
              "      <td>-0.222680</td>\n",
              "      <td>-0.069588</td>\n",
              "      <td>-0.333362</td>\n",
              "      <td>-0.357037</td>\n",
              "      <td>-0.337877</td>\n",
              "      <td>-0.331563</td>\n",
              "      <td>0.041252</td>\n",
              "    </tr>\n",
              "    <tr>\n",
              "      <th>skew</th>\n",
              "      <td>-0.322327</td>\n",
              "      <td>0.314597</td>\n",
              "      <td>-0.257407</td>\n",
              "      <td>-0.319475</td>\n",
              "      <td>-0.206339</td>\n",
              "      <td>0.249497</td>\n",
              "      <td>1.000000</td>\n",
              "      <td>0.977020</td>\n",
              "      <td>-0.195459</td>\n",
              "      <td>0.079694</td>\n",
              "      <td>-0.434859</td>\n",
              "      <td>-0.322327</td>\n",
              "      <td>-0.167668</td>\n",
              "      <td>-0.216954</td>\n",
              "      <td>-0.080861</td>\n",
              "      <td>-0.336848</td>\n",
              "      <td>-0.061608</td>\n",
              "      <td>-0.305651</td>\n",
              "      <td>-0.304640</td>\n",
              "      <td>-0.169325</td>\n",
              "    </tr>\n",
              "    <tr>\n",
              "      <th>kurt</th>\n",
              "      <td>-0.316036</td>\n",
              "      <td>0.346241</td>\n",
              "      <td>-0.243382</td>\n",
              "      <td>-0.350182</td>\n",
              "      <td>-0.148881</td>\n",
              "      <td>0.316185</td>\n",
              "      <td>0.977020</td>\n",
              "      <td>1.000000</td>\n",
              "      <td>-0.127644</td>\n",
              "      <td>0.109884</td>\n",
              "      <td>-0.406722</td>\n",
              "      <td>-0.316036</td>\n",
              "      <td>-0.194560</td>\n",
              "      <td>-0.203201</td>\n",
              "      <td>-0.045667</td>\n",
              "      <td>-0.303234</td>\n",
              "      <td>-0.103313</td>\n",
              "      <td>-0.274500</td>\n",
              "      <td>-0.272729</td>\n",
              "      <td>-0.205539</td>\n",
              "    </tr>\n",
              "    <tr>\n",
              "      <th>sp.ent</th>\n",
              "      <td>-0.601203</td>\n",
              "      <td>0.716620</td>\n",
              "      <td>-0.502005</td>\n",
              "      <td>-0.648126</td>\n",
              "      <td>-0.174905</td>\n",
              "      <td>0.640813</td>\n",
              "      <td>-0.195459</td>\n",
              "      <td>-0.127644</td>\n",
              "      <td>1.000000</td>\n",
              "      <td>0.866411</td>\n",
              "      <td>-0.325298</td>\n",
              "      <td>-0.601203</td>\n",
              "      <td>-0.513194</td>\n",
              "      <td>-0.305826</td>\n",
              "      <td>-0.120738</td>\n",
              "      <td>-0.293562</td>\n",
              "      <td>-0.294869</td>\n",
              "      <td>-0.324253</td>\n",
              "      <td>-0.319054</td>\n",
              "      <td>0.198074</td>\n",
              "    </tr>\n",
              "    <tr>\n",
              "      <th>sfm</th>\n",
              "      <td>-0.784332</td>\n",
              "      <td>0.838086</td>\n",
              "      <td>-0.661690</td>\n",
              "      <td>-0.766875</td>\n",
              "      <td>-0.378198</td>\n",
              "      <td>0.663601</td>\n",
              "      <td>0.079694</td>\n",
              "      <td>0.109884</td>\n",
              "      <td>0.866411</td>\n",
              "      <td>1.000000</td>\n",
              "      <td>-0.485913</td>\n",
              "      <td>-0.784332</td>\n",
              "      <td>-0.421066</td>\n",
              "      <td>-0.362100</td>\n",
              "      <td>-0.192369</td>\n",
              "      <td>-0.428442</td>\n",
              "      <td>-0.289593</td>\n",
              "      <td>-0.436649</td>\n",
              "      <td>-0.431580</td>\n",
              "      <td>0.211477</td>\n",
              "    </tr>\n",
              "    <tr>\n",
              "      <th>mode</th>\n",
              "      <td>0.687715</td>\n",
              "      <td>-0.529150</td>\n",
              "      <td>0.677433</td>\n",
              "      <td>0.591277</td>\n",
              "      <td>0.486857</td>\n",
              "      <td>-0.403764</td>\n",
              "      <td>-0.434859</td>\n",
              "      <td>-0.406722</td>\n",
              "      <td>-0.325298</td>\n",
              "      <td>-0.485913</td>\n",
              "      <td>1.000000</td>\n",
              "      <td>0.687715</td>\n",
              "      <td>0.324771</td>\n",
              "      <td>0.385467</td>\n",
              "      <td>0.172329</td>\n",
              "      <td>0.491479</td>\n",
              "      <td>0.198150</td>\n",
              "      <td>0.477187</td>\n",
              "      <td>0.473775</td>\n",
              "      <td>-0.182344</td>\n",
              "    </tr>\n",
              "    <tr>\n",
              "      <th>centroid</th>\n",
              "      <td>1.000000</td>\n",
              "      <td>-0.739039</td>\n",
              "      <td>0.925445</td>\n",
              "      <td>0.911416</td>\n",
              "      <td>0.740997</td>\n",
              "      <td>-0.627605</td>\n",
              "      <td>-0.322327</td>\n",
              "      <td>-0.316036</td>\n",
              "      <td>-0.601203</td>\n",
              "      <td>-0.784332</td>\n",
              "      <td>0.687715</td>\n",
              "      <td>1.000000</td>\n",
              "      <td>0.460844</td>\n",
              "      <td>0.383937</td>\n",
              "      <td>0.274004</td>\n",
              "      <td>0.536666</td>\n",
              "      <td>0.229261</td>\n",
              "      <td>0.519528</td>\n",
              "      <td>0.515570</td>\n",
              "      <td>-0.216979</td>\n",
              "    </tr>\n",
              "    <tr>\n",
              "      <th>meanfun</th>\n",
              "      <td>0.460844</td>\n",
              "      <td>-0.466281</td>\n",
              "      <td>0.414909</td>\n",
              "      <td>0.545035</td>\n",
              "      <td>0.155091</td>\n",
              "      <td>-0.534462</td>\n",
              "      <td>-0.167668</td>\n",
              "      <td>-0.194560</td>\n",
              "      <td>-0.513194</td>\n",
              "      <td>-0.421066</td>\n",
              "      <td>0.324771</td>\n",
              "      <td>0.460844</td>\n",
              "      <td>1.000000</td>\n",
              "      <td>0.339387</td>\n",
              "      <td>0.311950</td>\n",
              "      <td>0.270840</td>\n",
              "      <td>0.162163</td>\n",
              "      <td>0.277982</td>\n",
              "      <td>0.275154</td>\n",
              "      <td>-0.054858</td>\n",
              "    </tr>\n",
              "    <tr>\n",
              "      <th>minfun</th>\n",
              "      <td>0.383937</td>\n",
              "      <td>-0.345609</td>\n",
              "      <td>0.337602</td>\n",
              "      <td>0.320994</td>\n",
              "      <td>0.258002</td>\n",
              "      <td>-0.222680</td>\n",
              "      <td>-0.216954</td>\n",
              "      <td>-0.203201</td>\n",
              "      <td>-0.305826</td>\n",
              "      <td>-0.362100</td>\n",
              "      <td>0.385467</td>\n",
              "      <td>0.383937</td>\n",
              "      <td>0.339387</td>\n",
              "      <td>1.000000</td>\n",
              "      <td>0.213987</td>\n",
              "      <td>0.375979</td>\n",
              "      <td>0.082015</td>\n",
              "      <td>0.317860</td>\n",
              "      <td>0.316486</td>\n",
              "      <td>0.002042</td>\n",
              "    </tr>\n",
              "    <tr>\n",
              "      <th>maxfun</th>\n",
              "      <td>0.274004</td>\n",
              "      <td>-0.129662</td>\n",
              "      <td>0.251328</td>\n",
              "      <td>0.199841</td>\n",
              "      <td>0.285584</td>\n",
              "      <td>-0.069588</td>\n",
              "      <td>-0.080861</td>\n",
              "      <td>-0.045667</td>\n",
              "      <td>-0.120738</td>\n",
              "      <td>-0.192369</td>\n",
              "      <td>0.172329</td>\n",
              "      <td>0.274004</td>\n",
              "      <td>0.311950</td>\n",
              "      <td>0.213987</td>\n",
              "      <td>1.000000</td>\n",
              "      <td>0.337553</td>\n",
              "      <td>-0.243426</td>\n",
              "      <td>0.355390</td>\n",
              "      <td>0.359880</td>\n",
              "      <td>-0.363029</td>\n",
              "    </tr>\n",
              "    <tr>\n",
              "      <th>meandom</th>\n",
              "      <td>0.536666</td>\n",
              "      <td>-0.482726</td>\n",
              "      <td>0.455943</td>\n",
              "      <td>0.467403</td>\n",
              "      <td>0.359181</td>\n",
              "      <td>-0.333362</td>\n",
              "      <td>-0.336848</td>\n",
              "      <td>-0.303234</td>\n",
              "      <td>-0.293562</td>\n",
              "      <td>-0.428442</td>\n",
              "      <td>0.491479</td>\n",
              "      <td>0.536666</td>\n",
              "      <td>0.270840</td>\n",
              "      <td>0.375979</td>\n",
              "      <td>0.337553</td>\n",
              "      <td>1.000000</td>\n",
              "      <td>0.099656</td>\n",
              "      <td>0.812838</td>\n",
              "      <td>0.811304</td>\n",
              "      <td>-0.180954</td>\n",
              "    </tr>\n",
              "    <tr>\n",
              "      <th>mindom</th>\n",
              "      <td>0.229261</td>\n",
              "      <td>-0.357667</td>\n",
              "      <td>0.191169</td>\n",
              "      <td>0.302255</td>\n",
              "      <td>-0.023750</td>\n",
              "      <td>-0.357037</td>\n",
              "      <td>-0.061608</td>\n",
              "      <td>-0.103313</td>\n",
              "      <td>-0.294869</td>\n",
              "      <td>-0.289593</td>\n",
              "      <td>0.198150</td>\n",
              "      <td>0.229261</td>\n",
              "      <td>0.162163</td>\n",
              "      <td>0.082015</td>\n",
              "      <td>-0.243426</td>\n",
              "      <td>0.099656</td>\n",
              "      <td>1.000000</td>\n",
              "      <td>0.026640</td>\n",
              "      <td>0.008666</td>\n",
              "      <td>0.200212</td>\n",
              "    </tr>\n",
              "    <tr>\n",
              "      <th>maxdom</th>\n",
              "      <td>0.519528</td>\n",
              "      <td>-0.482278</td>\n",
              "      <td>0.438919</td>\n",
              "      <td>0.459683</td>\n",
              "      <td>0.335114</td>\n",
              "      <td>-0.337877</td>\n",
              "      <td>-0.305651</td>\n",
              "      <td>-0.274500</td>\n",
              "      <td>-0.324253</td>\n",
              "      <td>-0.436649</td>\n",
              "      <td>0.477187</td>\n",
              "      <td>0.519528</td>\n",
              "      <td>0.277982</td>\n",
              "      <td>0.317860</td>\n",
              "      <td>0.355390</td>\n",
              "      <td>0.812838</td>\n",
              "      <td>0.026640</td>\n",
              "      <td>1.000000</td>\n",
              "      <td>0.999838</td>\n",
              "      <td>-0.425531</td>\n",
              "    </tr>\n",
              "    <tr>\n",
              "      <th>dfrange</th>\n",
              "      <td>0.515570</td>\n",
              "      <td>-0.475999</td>\n",
              "      <td>0.435621</td>\n",
              "      <td>0.454394</td>\n",
              "      <td>0.335648</td>\n",
              "      <td>-0.331563</td>\n",
              "      <td>-0.304640</td>\n",
              "      <td>-0.272729</td>\n",
              "      <td>-0.319054</td>\n",
              "      <td>-0.431580</td>\n",
              "      <td>0.473775</td>\n",
              "      <td>0.515570</td>\n",
              "      <td>0.275154</td>\n",
              "      <td>0.316486</td>\n",
              "      <td>0.359880</td>\n",
              "      <td>0.811304</td>\n",
              "      <td>0.008666</td>\n",
              "      <td>0.999838</td>\n",
              "      <td>1.000000</td>\n",
              "      <td>-0.429266</td>\n",
              "    </tr>\n",
              "    <tr>\n",
              "      <th>modindx</th>\n",
              "      <td>-0.216979</td>\n",
              "      <td>0.122660</td>\n",
              "      <td>-0.213298</td>\n",
              "      <td>-0.141377</td>\n",
              "      <td>-0.216475</td>\n",
              "      <td>0.041252</td>\n",
              "      <td>-0.169325</td>\n",
              "      <td>-0.205539</td>\n",
              "      <td>0.198074</td>\n",
              "      <td>0.211477</td>\n",
              "      <td>-0.182344</td>\n",
              "      <td>-0.216979</td>\n",
              "      <td>-0.054858</td>\n",
              "      <td>0.002042</td>\n",
              "      <td>-0.363029</td>\n",
              "      <td>-0.180954</td>\n",
              "      <td>0.200212</td>\n",
              "      <td>-0.425531</td>\n",
              "      <td>-0.429266</td>\n",
              "      <td>1.000000</td>\n",
              "    </tr>\n",
              "  </tbody>\n",
              "</table>\n",
              "</div>"
            ],
            "text/plain": [
              "          meanfreq        sd    median  ...    maxdom   dfrange   modindx\n",
              "meanfreq  1.000000 -0.739039  0.925445  ...  0.519528  0.515570 -0.216979\n",
              "sd       -0.739039  1.000000 -0.562603  ... -0.482278 -0.475999  0.122660\n",
              "median    0.925445 -0.562603  1.000000  ...  0.438919  0.435621 -0.213298\n",
              "Q25       0.911416 -0.846931  0.774922  ...  0.459683  0.454394 -0.141377\n",
              "Q75       0.740997 -0.161076  0.731849  ...  0.335114  0.335648 -0.216475\n",
              "IQR      -0.627605  0.874660 -0.477352  ... -0.337877 -0.331563  0.041252\n",
              "skew     -0.322327  0.314597 -0.257407  ... -0.305651 -0.304640 -0.169325\n",
              "kurt     -0.316036  0.346241 -0.243382  ... -0.274500 -0.272729 -0.205539\n",
              "sp.ent   -0.601203  0.716620 -0.502005  ... -0.324253 -0.319054  0.198074\n",
              "sfm      -0.784332  0.838086 -0.661690  ... -0.436649 -0.431580  0.211477\n",
              "mode      0.687715 -0.529150  0.677433  ...  0.477187  0.473775 -0.182344\n",
              "centroid  1.000000 -0.739039  0.925445  ...  0.519528  0.515570 -0.216979\n",
              "meanfun   0.460844 -0.466281  0.414909  ...  0.277982  0.275154 -0.054858\n",
              "minfun    0.383937 -0.345609  0.337602  ...  0.317860  0.316486  0.002042\n",
              "maxfun    0.274004 -0.129662  0.251328  ...  0.355390  0.359880 -0.363029\n",
              "meandom   0.536666 -0.482726  0.455943  ...  0.812838  0.811304 -0.180954\n",
              "mindom    0.229261 -0.357667  0.191169  ...  0.026640  0.008666  0.200212\n",
              "maxdom    0.519528 -0.482278  0.438919  ...  1.000000  0.999838 -0.425531\n",
              "dfrange   0.515570 -0.475999  0.435621  ...  0.999838  1.000000 -0.429266\n",
              "modindx  -0.216979  0.122660 -0.213298  ... -0.425531 -0.429266  1.000000\n",
              "\n",
              "[20 rows x 20 columns]"
            ]
          },
          "metadata": {
            "tags": []
          },
          "execution_count": 8
        }
      ]
    },
    {
      "cell_type": "markdown",
      "metadata": {
        "id": "sz6eLvWr7NbT",
        "colab_type": "text"
      },
      "source": [
        "##checking wether there is null values"
      ]
    },
    {
      "cell_type": "code",
      "metadata": {
        "id": "-sdRRwHR7INK",
        "colab_type": "code",
        "outputId": "8fce12a1-2202-4f80-df2d-3dfdc4f520f4",
        "colab": {
          "base_uri": "https://localhost:8080/",
          "height": 399
        }
      },
      "source": [
        "df.isnull().sum()"
      ],
      "execution_count": 9,
      "outputs": [
        {
          "output_type": "execute_result",
          "data": {
            "text/plain": [
              "meanfreq    0\n",
              "sd          0\n",
              "median      0\n",
              "Q25         0\n",
              "Q75         0\n",
              "IQR         0\n",
              "skew        0\n",
              "kurt        0\n",
              "sp.ent      0\n",
              "sfm         0\n",
              "mode        0\n",
              "centroid    0\n",
              "meanfun     0\n",
              "minfun      0\n",
              "maxfun      0\n",
              "meandom     0\n",
              "mindom      0\n",
              "maxdom      0\n",
              "dfrange     0\n",
              "modindx     0\n",
              "label       0\n",
              "dtype: int64"
            ]
          },
          "metadata": {
            "tags": []
          },
          "execution_count": 9
        }
      ]
    },
    {
      "cell_type": "code",
      "metadata": {
        "id": "Aix99Ywq7Rs8",
        "colab_type": "code",
        "outputId": "23e9fab7-d11e-4710-ce80-9504708d437b",
        "colab": {
          "base_uri": "https://localhost:8080/",
          "height": 69
        }
      },
      "source": [
        "print(\"Total number of labels: \",df.shape[0])\n",
        "print(\"Total number of male: \",df[df[\"label\"] == \"male\"].shape[0])\n",
        "print(\"Total number of male: \",df[df[\"label\"] == \"female\"].shape[0])"
      ],
      "execution_count": 10,
      "outputs": [
        {
          "output_type": "stream",
          "text": [
            "Total number of labels:  3168\n",
            "Total number of male:  1584\n",
            "Total number of male:  1584\n"
          ],
          "name": "stdout"
        }
      ]
    },
    {
      "cell_type": "code",
      "metadata": {
        "id": "w3JYm9aR7a45",
        "colab_type": "code",
        "outputId": "60dac0f7-16e8-443e-e328-33ea96a5287f",
        "colab": {
          "base_uri": "https://localhost:8080/",
          "height": 34
        }
      },
      "source": [
        "Y = df[\"label\"]\n",
        "df.drop([\"label\"], axis = 1, inplace=True)\n",
        "X = df\n",
        "X.shape"
      ],
      "execution_count": 11,
      "outputs": [
        {
          "output_type": "execute_result",
          "data": {
            "text/plain": [
              "(3168, 20)"
            ]
          },
          "metadata": {
            "tags": []
          },
          "execution_count": 11
        }
      ]
    },
    {
      "cell_type": "markdown",
      "metadata": {
        "id": "GHz4IWjo7lLv",
        "colab_type": "text"
      },
      "source": [
        "##convert string values into integer for labels"
      ]
    },
    {
      "cell_type": "code",
      "metadata": {
        "id": "jlPYBqWS7geS",
        "colab_type": "code",
        "colab": {}
      },
      "source": [
        "Y = Y.replace(\"male\",1)\n",
        "Y = Y.replace(\"female\",0)"
      ],
      "execution_count": 0,
      "outputs": []
    },
    {
      "cell_type": "markdown",
      "metadata": {
        "id": "KtidG3NK7yBz",
        "colab_type": "text"
      },
      "source": [
        "##Data Standardisation"
      ]
    },
    {
      "cell_type": "code",
      "metadata": {
        "id": "5rXuBLOQ7vt5",
        "colab_type": "code",
        "colab": {}
      },
      "source": [
        "# Scale the data to be between -1 and 1\n",
        "from sklearn.preprocessing import StandardScaler\n",
        "scaler = StandardScaler()\n",
        "scaler.fit(X)\n",
        "X = scaler.transform(X)"
      ],
      "execution_count": 0,
      "outputs": []
    },
    {
      "cell_type": "markdown",
      "metadata": {
        "id": "ABg9pGGf75l8",
        "colab_type": "text"
      },
      "source": [
        "##Spliting dataset into training and testing dataset"
      ]
    },
    {
      "cell_type": "code",
      "metadata": {
        "id": "kKihRxV071v3",
        "colab_type": "code",
        "outputId": "f180b3a8-18c9-4f9a-d926-0f67b0d3a7d3",
        "colab": {
          "base_uri": "https://localhost:8080/",
          "height": 34
        }
      },
      "source": [
        "from sklearn.model_selection import train_test_split\n",
        "X_train, X_test, y_train, y_test = train_test_split(X, Y, test_size=0.2, random_state=1)\n",
        "X_train.shape"
      ],
      "execution_count": 14,
      "outputs": [
        {
          "output_type": "execute_result",
          "data": {
            "text/plain": [
              "(2534, 20)"
            ]
          },
          "metadata": {
            "tags": []
          },
          "execution_count": 14
        }
      ]
    },
    {
      "cell_type": "code",
      "metadata": {
        "id": "t69B7T51XTPA",
        "colab_type": "code",
        "colab": {}
      },
      "source": [
        "X = X_train\n",
        "Y = y_train"
      ],
      "execution_count": 0,
      "outputs": []
    },
    {
      "cell_type": "markdown",
      "metadata": {
        "id": "-75XP86NA2eg",
        "colab_type": "text"
      },
      "source": [
        "##import cvxopt\n",
        "\n",
        "CVXOPT is for convex optimization problems"
      ]
    },
    {
      "cell_type": "code",
      "metadata": {
        "id": "gw_M0pEF8CCr",
        "colab_type": "code",
        "colab": {}
      },
      "source": [
        "import cvxopt.solvers"
      ],
      "execution_count": 0,
      "outputs": []
    },
    {
      "cell_type": "code",
      "metadata": {
        "id": "h0X3gIp38XKy",
        "colab_type": "code",
        "colab": {}
      },
      "source": [
        "k = np.dot(X,X.T)"
      ],
      "execution_count": 0,
      "outputs": []
    },
    {
      "cell_type": "code",
      "metadata": {
        "id": "qBXsWxv_8dfI",
        "colab_type": "code",
        "colab": {}
      },
      "source": [
        "m = len(X)"
      ],
      "execution_count": 0,
      "outputs": []
    },
    {
      "cell_type": "code",
      "metadata": {
        "id": "FA7VYhWY8hVT",
        "colab_type": "code",
        "colab": {}
      },
      "source": [
        "P = cvxopt.matrix(np.outer(Y,Y)*k)\n",
        "q = cvxopt.matrix(-1 * np.ones(m))"
      ],
      "execution_count": 0,
      "outputs": []
    },
    {
      "cell_type": "code",
      "metadata": {
        "id": "UDUGghth8zzK",
        "colab_type": "code",
        "colab": {}
      },
      "source": [
        "A = cvxopt.matrix(Y, (1,m), \"d\")\n",
        "b = cvxopt.matrix(0.0)"
      ],
      "execution_count": 0,
      "outputs": []
    },
    {
      "cell_type": "code",
      "metadata": {
        "id": "QNxKsMIZ9N5W",
        "colab_type": "code",
        "colab": {}
      },
      "source": [
        "G = cvxopt.matrix(np.diag(-1 *np.ones(m)))\n",
        "h = cvxopt.matrix(np.zeros(m))"
      ],
      "execution_count": 0,
      "outputs": []
    },
    {
      "cell_type": "code",
      "metadata": {
        "id": "uNGmMgKf9fui",
        "colab_type": "code",
        "outputId": "70024949-e75c-48be-f720-4972385dbdc7",
        "colab": {
          "base_uri": "https://localhost:8080/",
          "height": 139
        }
      },
      "source": [
        "sol = cvxopt.solvers.qp(P,q,A,b,G,h)\n",
        "multipliers = np.ravel(sol[\"x\"])"
      ],
      "execution_count": 22,
      "outputs": [
        {
          "output_type": "stream",
          "text": [
            "     pcost       dcost       gap    pres   dres\n",
            " 0: -1.9241e-14  1.9318e-14  1e+00  1e+00  7e-01\n",
            " 1:  1.8920e-14 -1.9082e-16  1e-02  1e-02  7e-03\n",
            " 2: -3.5470e-17  0.0000e+00  1e-04  1e-04  7e-05\n",
            " 3:  1.1011e-18  2.1176e-22  1e-06  1e-06  7e-07\n",
            " 4:  7.6297e-21  0.0000e+00  1e-08  1e-08  7e-09\n",
            "Optimal solution found.\n"
          ],
          "name": "stdout"
        }
      ]
    },
    {
      "cell_type": "markdown",
      "metadata": {
        "id": "IuL-jeLHBQbt",
        "colab_type": "text"
      },
      "source": [
        "##here we have multipliers (we can also say it Lembdas) "
      ]
    },
    {
      "cell_type": "code",
      "metadata": {
        "id": "FZTkqSBP_T8_",
        "colab_type": "code",
        "outputId": "54c2d44d-aa61-42aa-c990-456fc7bad2a8",
        "colab": {
          "base_uri": "https://localhost:8080/",
          "height": 52
        }
      },
      "source": [
        "multipliers"
      ],
      "execution_count": 23,
      "outputs": [
        {
          "output_type": "execute_result",
          "data": {
            "text/plain": [
              "array([ 0.00000000e+00,  5.30953207e-23,  0.00000000e+00, ...,\n",
              "       -4.53574800e-21,  2.69744149e-21,  1.61334734e-22])"
            ]
          },
          "metadata": {
            "tags": []
          },
          "execution_count": 23
        }
      ]
    },
    {
      "cell_type": "code",
      "metadata": {
        "id": "o_vRbrEm-1-f",
        "colab_type": "code",
        "outputId": "933cb37e-8e4c-45d8-baf3-4253f6c48fb5",
        "colab": {
          "base_uri": "https://localhost:8080/",
          "height": 34
        }
      },
      "source": [
        "multipliers.shape"
      ],
      "execution_count": 24,
      "outputs": [
        {
          "output_type": "execute_result",
          "data": {
            "text/plain": [
              "(2534,)"
            ]
          },
          "metadata": {
            "tags": []
          },
          "execution_count": 24
        }
      ]
    },
    {
      "cell_type": "code",
      "metadata": {
        "id": "Hs19_B2T--6h",
        "colab_type": "code",
        "outputId": "4e6c70d5-5796-4ff8-ae43-f2706a3da93c",
        "colab": {
          "base_uri": "https://localhost:8080/",
          "height": 34
        }
      },
      "source": [
        "positive_mul = multipliers > 0\n",
        "positive_mul"
      ],
      "execution_count": 25,
      "outputs": [
        {
          "output_type": "execute_result",
          "data": {
            "text/plain": [
              "array([False,  True, False, ..., False,  True,  True])"
            ]
          },
          "metadata": {
            "tags": []
          },
          "execution_count": 25
        }
      ]
    },
    {
      "cell_type": "code",
      "metadata": {
        "id": "pCYbI-p6Fbv6",
        "colab_type": "code",
        "colab": {}
      },
      "source": [
        "lembda = multipliers[positive_mul]\n",
        "lembda = np.ravel(lembda)"
      ],
      "execution_count": 0,
      "outputs": []
    },
    {
      "cell_type": "markdown",
      "metadata": {
        "id": "rETeUbdOBgZh",
        "colab_type": "text"
      },
      "source": [
        "##these are support vactors, which is positive multipliers"
      ]
    },
    {
      "cell_type": "code",
      "metadata": {
        "id": "2Fpw_Jjh_Crh",
        "colab_type": "code",
        "colab": {}
      },
      "source": [
        "support_vactors = X[positive_mul]"
      ],
      "execution_count": 0,
      "outputs": []
    },
    {
      "cell_type": "code",
      "metadata": {
        "id": "zWB5mXwWABsF",
        "colab_type": "code",
        "outputId": "650a293c-55f4-4576-dd0b-10290d1fbb71",
        "colab": {
          "base_uri": "https://localhost:8080/",
          "height": 34
        }
      },
      "source": [
        "support_vactors.shape"
      ],
      "execution_count": 28,
      "outputs": [
        {
          "output_type": "execute_result",
          "data": {
            "text/plain": [
              "(612, 20)"
            ]
          },
          "metadata": {
            "tags": []
          },
          "execution_count": 28
        }
      ]
    },
    {
      "cell_type": "code",
      "metadata": {
        "id": "uLMhnp9zAOW-",
        "colab_type": "code",
        "colab": {}
      },
      "source": [
        "Y = np.ravel(Y[positive_mul])"
      ],
      "execution_count": 0,
      "outputs": []
    },
    {
      "cell_type": "markdown",
      "metadata": {
        "id": "EQJY4S5fB0xn",
        "colab_type": "text"
      },
      "source": [
        "##now, we have lambda's lets calculate slope and intercept using these formulas\n",
        "\n",
        "##slope(m):\n",
        "\n",
        "![alt text](http://www.simpleimageresizer.com/_uploads/photos/6723c794/IMG_20190805_1441042_1_100x50.jpg)\n",
        "\n",
        "##intercept(c):\n",
        "\n",
        "![alt text](http://www.simpleimageresizer.com/_uploads/photos/6723c794/IMG_20190805_1441122_2_100x50.jpg)"
      ]
    },
    {
      "cell_type": "code",
      "metadata": {
        "id": "_S4F84V0Aazr",
        "colab_type": "code",
        "colab": {}
      },
      "source": [
        "def slope(multipliers,X,Y):\n",
        "  for i in range(len(X)):\n",
        "    slp = np.sum(multipliers[i]*Y[i]*X[i])\n",
        "  return slp\n",
        "  "
      ],
      "execution_count": 0,
      "outputs": []
    },
    {
      "cell_type": "code",
      "metadata": {
        "id": "_RugpmDuEwP_",
        "colab_type": "code",
        "colab": {}
      },
      "source": [
        "slope = slope(lembda,support_vactors,Y)"
      ],
      "execution_count": 0,
      "outputs": []
    },
    {
      "cell_type": "code",
      "metadata": {
        "id": "iDw6DUK_JkJR",
        "colab_type": "code",
        "colab": {}
      },
      "source": [
        "m = slope"
      ],
      "execution_count": 0,
      "outputs": []
    },
    {
      "cell_type": "code",
      "metadata": {
        "id": "04lXdu5RG96H",
        "colab_type": "code",
        "colab": {}
      },
      "source": [
        "def intercept(slope,X,Y):\n",
        "  return np.sum(Y - np.dot(slope,X))"
      ],
      "execution_count": 0,
      "outputs": []
    },
    {
      "cell_type": "code",
      "metadata": {
        "id": "TfDZ7sm5FKof",
        "colab_type": "code",
        "colab": {}
      },
      "source": [
        "intercept = intercept(slope,support_vactors,np.reshape(Y,(len(Y),1)))\n",
        "c = intercept\n"
      ],
      "execution_count": 0,
      "outputs": []
    },
    {
      "cell_type": "code",
      "metadata": {
        "id": "bwvFTS4hFkw1",
        "colab_type": "code",
        "colab": {}
      },
      "source": [
        "def predict(m,X,c):\n",
        "  answers = []\n",
        "  for i in range(len(X)):\n",
        "    pred = np.mean(m*X + c)\n",
        "    if (pred<= -1):\n",
        "      answers.append(-1)\n",
        "    else:\n",
        "      answers.append(1)\n",
        "  return answers"
      ],
      "execution_count": 0,
      "outputs": []
    },
    {
      "cell_type": "code",
      "metadata": {
        "id": "T5pVLYTzIAxn",
        "colab_type": "code",
        "colab": {}
      },
      "source": [
        "prediction = predict(m,X_test,c)"
      ],
      "execution_count": 0,
      "outputs": []
    },
    {
      "cell_type": "code",
      "metadata": {
        "id": "hZ4-Go88UuV0",
        "colab_type": "code",
        "colab": {}
      },
      "source": [
        ""
      ],
      "execution_count": 0,
      "outputs": []
    }
  ]
}